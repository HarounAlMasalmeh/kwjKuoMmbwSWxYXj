{
 "cells": [
  {
   "cell_type": "code",
   "execution_count": 2,
   "id": "c1cc8fad",
   "metadata": {},
   "outputs": [],
   "source": [
    "import pandas as pd"
   ]
  },
  {
   "cell_type": "code",
   "execution_count": 3,
   "id": "4adc1a3c-e85f-4d6d-a884-902b31bf62dc",
   "metadata": {},
   "outputs": [],
   "source": [
    "file_path = '../data/raw/potential-talents.csv'"
   ]
  },
  {
   "cell_type": "code",
   "execution_count": 4,
   "id": "36f94332",
   "metadata": {},
   "outputs": [],
   "source": [
    "df = pd.read_csv(file_path, index_col = 'id')\n",
    "title_df = df['job_title']\n",
    "sentences = list(set(title_df.values))"
   ]
  },
  {
   "cell_type": "code",
   "execution_count": 5,
   "id": "dc1a52d2",
   "metadata": {},
   "outputs": [],
   "source": [
    "keywords =[\"Aspiring human resources\", \"seeking human resources\"]"
   ]
  },
  {
   "cell_type": "code",
   "execution_count": 6,
   "id": "c6bd6a71",
   "metadata": {},
   "outputs": [],
   "source": [
    "from transformers import BertTokenizer, BertModel\n",
    "from sklearn.metrics.pairwise import cosine_similarity\n",
    "import torch\n",
    "\n",
    "# 1. Load Pretrained BERT Model and Tokenizer\n",
    "model_name = 'bert-base-uncased'\n",
    "model = BertModel.from_pretrained(model_name, return_dict=True)\n",
    "tokenizer = BertTokenizer.from_pretrained(model_name)\n",
    "\n",
    "def get_bert_embeddings(sentences):\n",
    "    \"\"\"Return embeddings for a list of sentences\"\"\"\n",
    "    inputs = tokenizer(sentences, return_tensors=\"pt\", padding=True, truncation=True, max_length=512)\n",
    "    with torch.no_grad():\n",
    "        outputs = model(**inputs)\n",
    "    # Using the `pooler_output` as sentence embeddings. Another common strategy is to average the last layer embeddings.\n",
    "    embeddings = outputs.pooler_output\n",
    "    return embeddings\n",
    "\n",
    "# 2. Tokenize the Sentences and 3. Extract BERT Embeddings\n",
    "embeddings_set1 = get_bert_embeddings(keywords)\n",
    "embeddings_set2 = get_bert_embeddings(sentences)\n",
    "\n",
    "# Convert embeddings to numpy for easier calculations\n",
    "embeddings_set1 = embeddings_set1.numpy()\n",
    "embeddings_set2 = embeddings_set2.numpy()\n",
    "\n",
    "# 4. Calculate Similarity\n",
    "similarities = cosine_similarity(embeddings_set1, embeddings_set2)\n"
   ]
  },
  {
   "cell_type": "code",
   "execution_count": 7,
   "id": "37a7244d",
   "metadata": {},
   "outputs": [
    {
     "name": "stdout",
     "output_type": "stream",
     "text": [
      "Most similar sentences to 'Aspiring human resources':\n",
      "   'Seeking Human Resources Position' with a similarity of 0.9868.\n",
      "   'Seeking Human Resources Opportunities' with a similarity of 0.9862.\n",
      "   'People Development Coordinator at Ryan' with a similarity of 0.9847.\n",
      "   'HR Senior Specialist' with a similarity of 0.9829.\n",
      "   'Aspiring Human Resources Specialist' with a similarity of 0.9696.\n",
      "   'Always set them up for Success' with a similarity of 0.9682.\n",
      "   'Lead Official at Western Illinois University' with a similarity of 0.9625.\n",
      "   'Human Resources Specialist at Luxottica' with a similarity of 0.9614.\n",
      "   'Student at Chapman University' with a similarity of 0.9578.\n",
      "   'Human Resources Professional' with a similarity of 0.9519.\n",
      "---------\n",
      "Most similar sentences to 'seeking human resources':\n",
      "   'Seeking Human Resources Opportunities' with a similarity of 0.9946.\n",
      "   'Seeking Human Resources Position' with a similarity of 0.9908.\n",
      "   'People Development Coordinator at Ryan' with a similarity of 0.9846.\n",
      "   'HR Senior Specialist' with a similarity of 0.9718.\n",
      "   'Always set them up for Success' with a similarity of 0.9696.\n",
      "   'Aspiring Human Resources Specialist' with a similarity of 0.9595.\n",
      "   'Lead Official at Western Illinois University' with a similarity of 0.9572.\n",
      "   'Human Resources Specialist at Luxottica' with a similarity of 0.9549.\n",
      "   'Student at Chapman University' with a similarity of 0.9540.\n",
      "   'Student' with a similarity of 0.9455.\n",
      "---------\n"
     ]
    }
   ],
   "source": [
    "top_10_similar_sentences = []\n",
    "\n",
    "for i, sentence in enumerate(keywords):\n",
    "    # Getting the indices of top 10 similar sentences\n",
    "    top_10_indices = similarities[i].argsort()[-10:][::-1] \n",
    "    \n",
    "    top_10_for_sentence = [(sentences[j], similarities[i][j]) for j in top_10_indices]\n",
    "    top_10_similar_sentences.append((sentence, top_10_for_sentence))\n",
    "\n",
    "# Printing the results\n",
    "for s1, top_10 in top_10_similar_sentences:\n",
    "    print(f\"Most similar sentences to '{s1}':\")\n",
    "    for s2, sim in top_10:\n",
    "        print(f\"   '{s2}' with a similarity of {sim:.4f}.\")\n",
    "    print(\"---------\")"
   ]
  },
  {
   "cell_type": "code",
   "execution_count": null,
   "id": "93200b60",
   "metadata": {},
   "outputs": [],
   "source": []
  }
 ],
 "metadata": {
  "kernelspec": {
   "display_name": "Python 3 (ipykernel)",
   "language": "python",
   "name": "python3"
  },
  "language_info": {
   "codemirror_mode": {
    "name": "ipython",
    "version": 3
   },
   "file_extension": ".py",
   "mimetype": "text/x-python",
   "name": "python",
   "nbconvert_exporter": "python",
   "pygments_lexer": "ipython3",
   "version": "3.10.11"
  }
 },
 "nbformat": 4,
 "nbformat_minor": 5
}
