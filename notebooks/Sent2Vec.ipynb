{
 "cells": [
  {
   "cell_type": "code",
   "execution_count": 1,
   "id": "25fd96f1",
   "metadata": {
    "ExecuteTime": {
     "end_time": "2023-08-23T16:02:44.522827Z",
     "start_time": "2023-08-23T16:02:42.016246Z"
    }
   },
   "outputs": [],
   "source": [
    "import numpy as np\n",
    "import pandas as pd"
   ]
  },
  {
   "cell_type": "code",
   "execution_count": 2,
   "id": "b70e88db",
   "metadata": {
    "is_executing": true
   },
   "outputs": [],
   "source": [
    "keywords =[\"Aspiring human resources\", \"seeking human resources\"]"
   ]
  },
  {
   "cell_type": "code",
   "execution_count": 3,
   "id": "bd327a5e-0106-4235-9109-74cdc0651fc2",
   "metadata": {},
   "outputs": [],
   "source": [
    "file_path = '../data/raw/potential-talents.csv'\n",
    "model_path = '../models/torontobooks_unigrams.bin'"
   ]
  },
  {
   "cell_type": "code",
   "execution_count": 4,
   "id": "d8edc3ca",
   "metadata": {},
   "outputs": [
    {
     "data": {
      "text/html": [
       "<div>\n",
       "<style scoped>\n",
       "    .dataframe tbody tr th:only-of-type {\n",
       "        vertical-align: middle;\n",
       "    }\n",
       "\n",
       "    .dataframe tbody tr th {\n",
       "        vertical-align: top;\n",
       "    }\n",
       "\n",
       "    .dataframe thead th {\n",
       "        text-align: right;\n",
       "    }\n",
       "</style>\n",
       "<table border=\"1\" class=\"dataframe\">\n",
       "  <thead>\n",
       "    <tr style=\"text-align: right;\">\n",
       "      <th></th>\n",
       "      <th>job_title</th>\n",
       "      <th>location</th>\n",
       "      <th>connection</th>\n",
       "      <th>fit</th>\n",
       "    </tr>\n",
       "    <tr>\n",
       "      <th>id</th>\n",
       "      <th></th>\n",
       "      <th></th>\n",
       "      <th></th>\n",
       "      <th></th>\n",
       "    </tr>\n",
       "  </thead>\n",
       "  <tbody>\n",
       "    <tr>\n",
       "      <th>1</th>\n",
       "      <td>2019 C.T. Bauer College of Business Graduate (...</td>\n",
       "      <td>Houston, Texas</td>\n",
       "      <td>85</td>\n",
       "      <td>NaN</td>\n",
       "    </tr>\n",
       "    <tr>\n",
       "      <th>2</th>\n",
       "      <td>Native English Teacher at EPIK (English Progra...</td>\n",
       "      <td>Kanada</td>\n",
       "      <td>500+</td>\n",
       "      <td>NaN</td>\n",
       "    </tr>\n",
       "    <tr>\n",
       "      <th>3</th>\n",
       "      <td>Aspiring Human Resources Professional</td>\n",
       "      <td>Raleigh-Durham, North Carolina Area</td>\n",
       "      <td>44</td>\n",
       "      <td>NaN</td>\n",
       "    </tr>\n",
       "    <tr>\n",
       "      <th>4</th>\n",
       "      <td>People Development Coordinator at Ryan</td>\n",
       "      <td>Denton, Texas</td>\n",
       "      <td>500+</td>\n",
       "      <td>NaN</td>\n",
       "    </tr>\n",
       "    <tr>\n",
       "      <th>5</th>\n",
       "      <td>Advisory Board Member at Celal Bayar University</td>\n",
       "      <td>İzmir, Türkiye</td>\n",
       "      <td>500+</td>\n",
       "      <td>NaN</td>\n",
       "    </tr>\n",
       "  </tbody>\n",
       "</table>\n",
       "</div>"
      ],
      "text/plain": [
       "                                            job_title  \\\n",
       "id                                                      \n",
       "1   2019 C.T. Bauer College of Business Graduate (...   \n",
       "2   Native English Teacher at EPIK (English Progra...   \n",
       "3               Aspiring Human Resources Professional   \n",
       "4              People Development Coordinator at Ryan   \n",
       "5     Advisory Board Member at Celal Bayar University   \n",
       "\n",
       "                               location connection  fit  \n",
       "id                                                       \n",
       "1                        Houston, Texas         85  NaN  \n",
       "2                                Kanada      500+   NaN  \n",
       "3   Raleigh-Durham, North Carolina Area         44  NaN  \n",
       "4                         Denton, Texas      500+   NaN  \n",
       "5                        İzmir, Türkiye      500+   NaN  "
      ]
     },
     "execution_count": 4,
     "metadata": {},
     "output_type": "execute_result"
    }
   ],
   "source": [
    "# Load dataset\n",
    "df = pd.read_csv(file_path, index_col = 'id')\n",
    "\n",
    "# Inspect data\n",
    "df.head()"
   ]
  },
  {
   "cell_type": "code",
   "execution_count": 5,
   "id": "6e4df904",
   "metadata": {},
   "outputs": [
    {
     "data": {
      "text/plain": [
       "id\n",
       "1    2019 C.T. Bauer College of Business Graduate (...\n",
       "2    Native English Teacher at EPIK (English Progra...\n",
       "3                Aspiring Human Resources Professional\n",
       "4               People Development Coordinator at Ryan\n",
       "5      Advisory Board Member at Celal Bayar University\n",
       "Name: job_title, dtype: object"
      ]
     },
     "execution_count": 5,
     "metadata": {},
     "output_type": "execute_result"
    }
   ],
   "source": [
    "title_df = df['job_title']\n",
    "title_df.head()"
   ]
  },
  {
   "cell_type": "code",
   "execution_count": 6,
   "id": "bb8b36ba",
   "metadata": {},
   "outputs": [],
   "source": [
    "sentences = list(set(title_df.values))"
   ]
  },
  {
   "cell_type": "code",
   "execution_count": 7,
   "id": "a13d05d5",
   "metadata": {
    "ExecuteTime": {
     "end_time": "2023-08-28T06:06:49.174922Z",
     "start_time": "2023-08-28T06:06:48.774494Z"
    }
   },
   "outputs": [
    {
     "ename": "ModuleNotFoundError",
     "evalue": "No module named 'sent2vec'",
     "output_type": "error",
     "traceback": [
      "\u001B[0;31m---------------------------------------------------------------------------\u001B[0m",
      "\u001B[0;31mModuleNotFoundError\u001B[0m                       Traceback (most recent call last)",
      "Cell \u001B[0;32mIn[7], line 1\u001B[0m\n\u001B[0;32m----> 1\u001B[0m \u001B[38;5;28;01mimport\u001B[39;00m \u001B[38;5;21;01msent2vec\u001B[39;00m\n\u001B[1;32m      3\u001B[0m model \u001B[38;5;241m=\u001B[39m sent2vec\u001B[38;5;241m.\u001B[39mSent2vecModel()\n\u001B[1;32m      4\u001B[0m model\u001B[38;5;241m.\u001B[39mload_model(model_path)\n",
      "\u001B[0;31mModuleNotFoundError\u001B[0m: No module named 'sent2vec'"
     ]
    }
   ],
   "source": [
    "import sent2vec\n",
    "\n",
    "model = sent2vec.Sent2vecModel()\n",
    "model.load_model(model_path)\n"
   ]
  },
  {
   "cell_type": "code",
   "execution_count": 43,
   "id": "3448fc3d",
   "metadata": {},
   "outputs": [],
   "source": [
    "keyword_vectors = model.embed_sentences(keywords)\n",
    "sentence_vectors = model.embed_sentences(sentences)"
   ]
  },
  {
   "cell_type": "code",
   "execution_count": 44,
   "id": "d28ef0d7",
   "metadata": {},
   "outputs": [],
   "source": [
    "from sklearn.metrics.pairwise import cosine_similarity\n",
    "\n",
    "similarities = cosine_similarity(keyword_vectors, sentence_vectors)"
   ]
  },
  {
   "cell_type": "code",
   "execution_count": 45,
   "id": "c0dd6eb1",
   "metadata": {},
   "outputs": [
    {
     "data": {
      "text/plain": [
       "array([[-0.06657862,  0.06302911, -0.01744539, -0.01744539,  0.01935777,\n",
       "         0.16752085,  0.02687871, -0.0297904 ,  0.03083761, -0.081668  ,\n",
       "        -0.04842351, -0.01744539,  0.        , -0.01744539,  0.15169853,\n",
       "        -0.01744539,  0.09312142,  0.        ,  0.06668992, -0.01744539,\n",
       "        -0.03204481, -0.0219828 ,  0.        ,  0.        ,  0.        ,\n",
       "        -0.01744539, -0.01744539, -0.00871275,  0.        ,  0.        ,\n",
       "         0.        , -0.05444105, -0.01744539, -0.05444105,  0.        ,\n",
       "        -0.01744539, -0.01744539,  0.04622614, -0.08186405, -0.01744539,\n",
       "        -0.01744539,  0.08322381,  0.        ,  0.10511395, -0.01744539,\n",
       "         0.04154092,  0.        , -0.08186405, -0.01744539, -0.02270472,\n",
       "        -0.08186405, -0.01744539],\n",
       "       [-0.02456015,  0.41662094, -0.01087858, -0.01087858,  0.0204486 ,\n",
       "         0.1847857 ,  0.01456143,  0.01688487,  0.04676953, -0.03166493,\n",
       "        -0.02375271, -0.01087858,  0.        , -0.01087858,  0.13480742,\n",
       "        -0.01087858,  0.35545185,  0.        ,  0.34861422, -0.01087858,\n",
       "         0.02469038, -0.00305908,  0.        ,  0.        ,  0.        ,\n",
       "        -0.01087858, -0.01087858, -0.0103397 ,  0.        ,  0.        ,\n",
       "         0.        , -0.03828186, -0.01087858, -0.03828186,  0.        ,\n",
       "        -0.01087858, -0.01087858,  0.05660946, -0.05992084, -0.01087858,\n",
       "        -0.01087858,  0.10389583,  0.        ,  0.13206439, -0.01087858,\n",
       "         0.04036856,  0.        , -0.05992084, -0.01087858,  0.3206245 ,\n",
       "        -0.05992084, -0.01087858]], dtype=float32)"
      ]
     },
     "execution_count": 45,
     "metadata": {},
     "output_type": "execute_result"
    }
   ],
   "source": [
    "similarities"
   ]
  },
  {
   "cell_type": "code",
   "execution_count": 46,
   "id": "ace2edda",
   "metadata": {},
   "outputs": [
    {
     "name": "stdout",
     "output_type": "stream",
     "text": [
      "The most similar sentences are 'seeking human resources' and 'Aspiring Human Resources Manager, seeking internship in Human Resources.' with a similarity of 0.4166209399700165.\n"
     ]
    }
   ],
   "source": [
    "# For instance, to get the most similar sentences between the two sets:\n",
    "i, j = np.unravel_index(similarities.argmax(), similarities.shape)\n",
    "print(f\"The most similar sentences are '{keywords[i]}' and '{sentences[j]}' with a similarity of {similarities[i][j]}.\")\n"
   ]
  },
  {
   "cell_type": "code",
   "execution_count": 47,
   "id": "e8577fad",
   "metadata": {},
   "outputs": [
    {
     "name": "stdout",
     "output_type": "stream",
     "text": [
      "Most similar sentences to 'Aspiring human resources':\n",
      "   'Seeking employment opportunities within Customer Service or Patient Care' with a similarity of 0.1675.\n",
      "   'Admissions Representative at Community medical center long beach' with a similarity of 0.1517.\n",
      "   'Human Resources professional for the world leader in GIS software' with a similarity of 0.1051.\n",
      "   'Aspiring Human Resources Management student seeking an internship' with a similarity of 0.0931.\n",
      "   'Aspiring Human Resources Professional | Passionate about helping to create an inclusive and engaging work environment' with a similarity of 0.0832.\n",
      "   'Retired Army National Guard Recruiter, office manager,  seeking a position in Human Resources.' with a similarity of 0.0667.\n",
      "   'Aspiring Human Resources Manager, seeking internship in Human Resources.' with a similarity of 0.0630.\n",
      "   'Information Systems Specialist and Programmer with a love for data and organization.' with a similarity of 0.0462.\n",
      "   'Aspiring Human Resources Professional | An energetic and Team-Focused Leader' with a similarity of 0.0415.\n",
      "   'Seeking Human  Resources Opportunities. Open to travel and relocation.' with a similarity of 0.0308.\n",
      "---------\n",
      "Most similar sentences to 'seeking human resources':\n",
      "   'Aspiring Human Resources Manager, seeking internship in Human Resources.' with a similarity of 0.4166.\n",
      "   'Aspiring Human Resources Management student seeking an internship' with a similarity of 0.3555.\n",
      "   'Retired Army National Guard Recruiter, office manager,  seeking a position in Human Resources.' with a similarity of 0.3486.\n",
      "   'Nortia Staffing is seeking Human Resources, Payroll & Administrative Professionals!!  (408) 709-2621' with a similarity of 0.3206.\n",
      "   'Seeking employment opportunities within Customer Service or Patient Care' with a similarity of 0.1848.\n",
      "   'Admissions Representative at Community medical center long beach' with a similarity of 0.1348.\n",
      "   'Human Resources professional for the world leader in GIS software' with a similarity of 0.1321.\n",
      "   'Aspiring Human Resources Professional | Passionate about helping to create an inclusive and engaging work environment' with a similarity of 0.1039.\n",
      "   'Information Systems Specialist and Programmer with a love for data and organization.' with a similarity of 0.0566.\n",
      "   'Seeking Human  Resources Opportunities. Open to travel and relocation.' with a similarity of 0.0468.\n",
      "---------\n"
     ]
    }
   ],
   "source": [
    "top_10_similar_sentences = []\n",
    "\n",
    "for i, sentence in enumerate(keywords):\n",
    "    # Getting the indices of top 10 similar sentences\n",
    "    top_10_indices = similarities[i].argsort()[-10:][::-1] \n",
    "    \n",
    "    top_10_for_sentence = [(sentences[j], similarities[i][j]) for j in top_10_indices]\n",
    "    top_10_similar_sentences.append((sentence, top_10_for_sentence))\n",
    "\n",
    "# Printing the results\n",
    "for s1, top_10 in top_10_similar_sentences:\n",
    "    print(f\"Most similar sentences to '{s1}':\")\n",
    "    for s2, sim in top_10:\n",
    "        print(f\"   '{s2}' with a similarity of {sim:.4f}.\")\n",
    "    print(\"---------\")\n"
   ]
  },
  {
   "cell_type": "code",
   "execution_count": null,
   "id": "f8517afe",
   "metadata": {},
   "outputs": [],
   "source": []
  }
 ],
 "metadata": {
  "kernelspec": {
   "display_name": "Python 3 (ipykernel)",
   "language": "python",
   "name": "python3"
  },
  "language_info": {
   "codemirror_mode": {
    "name": "ipython",
    "version": 3
   },
   "file_extension": ".py",
   "mimetype": "text/x-python",
   "name": "python",
   "nbconvert_exporter": "python",
   "pygments_lexer": "ipython3",
   "version": "3.10.11"
  }
 },
 "nbformat": 4,
 "nbformat_minor": 5
}
