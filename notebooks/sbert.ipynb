{
 "cells": [
  {
   "cell_type": "code",
   "execution_count": 1,
   "id": "588e0b58",
   "metadata": {
    "ExecuteTime": {
     "start_time": "2023-08-27T04:14:40.770295Z"
    },
    "is_executing": true
   },
   "outputs": [],
   "source": [
    "from sentence_transformers import SentenceTransformer"
   ]
  },
  {
   "cell_type": "code",
   "execution_count": 2,
   "id": "7a9ce64f",
   "metadata": {},
   "outputs": [],
   "source": [
    "model = SentenceTransformer('paraphrase-MiniLM-L6-v2')"
   ]
  },
  {
   "cell_type": "code",
   "execution_count": 3,
   "id": "071e7a40",
   "metadata": {},
   "outputs": [],
   "source": [
    "import pandas as pd"
   ]
  },
  {
   "cell_type": "code",
   "execution_count": 4,
   "id": "3f3d834a",
   "metadata": {},
   "outputs": [],
   "source": [
    "keywords =[\"Aspiring human resources\", \"seeking human resources\"]\n",
    "keyword_embeddings = model.encode(keywords)"
   ]
  },
  {
   "cell_type": "code",
   "execution_count": 6,
   "id": "f37a6a3c-65f9-40f1-8007-4a6e35e602c5",
   "metadata": {},
   "outputs": [],
   "source": [
    "data_file_path = '../data/raw/potential-talents.csv'"
   ]
  },
  {
   "cell_type": "code",
   "execution_count": 7,
   "id": "f231579e",
   "metadata": {},
   "outputs": [],
   "source": [
    "df = pd.read_csv(data_file_path, index_col = 'id')\n",
    "title_df = df['job_title']\n",
    "sentences = list(set(title_df.values))"
   ]
  },
  {
   "cell_type": "code",
   "execution_count": 8,
   "id": "61cea5c8",
   "metadata": {},
   "outputs": [],
   "source": [
    "sentence_embeddings = model.encode(sentences)"
   ]
  },
  {
   "cell_type": "code",
   "execution_count": 9,
   "id": "8cd83389",
   "metadata": {},
   "outputs": [
    {
     "name": "stdout",
     "output_type": "stream",
     "text": [
      "Aspiring human resources, Aspiring Human Resources Professional.\tThe similarity score is: 0.921\n",
      "seeking human resources, Seeking Human Resources Opportunities.\tThe similarity score is: 0.938\n"
     ]
    }
   ],
   "source": [
    "from sklearn.metrics.pairwise import cosine_similarity\n",
    "\n",
    "for keyword, keyword_embedding in zip(keywords, keyword_embeddings):\n",
    "    max_similarity = 0\n",
    "    max_sentence = \"\"\n",
    "    for sentence, sentence_embedding in zip(sentences, sentence_embeddings):\n",
    "        similarity = cosine_similarity([keyword_embedding], [sentence_embedding])\n",
    "        if similarity[0][0] > max_similarity:\n",
    "            max_similarity = similarity[0][0]\n",
    "            max_sentence = sentence\n",
    "    print(f\"{keyword}, {max_sentence}.\\tThe similarity score is: {max_similarity:.3f}\")"
   ]
  },
  {
   "cell_type": "code",
   "execution_count": 10,
   "id": "51755c7f",
   "metadata": {},
   "outputs": [],
   "source": [
    "similarities = cosine_similarity(keyword_embeddings, sentence_embeddings)"
   ]
  },
  {
   "cell_type": "code",
   "execution_count": 11,
   "id": "ed1b2578",
   "metadata": {},
   "outputs": [
    {
     "data": {
      "text/plain": [
       "array([[0.9206303 , 0.27024588, 0.83408856, 0.5199114 , 0.32735008,\n",
       "        0.31740287, 0.40485275, 0.55841064, 0.47940361, 0.43425226,\n",
       "        0.3626714 , 0.41218704, 0.30736828, 0.7273451 , 0.74724174,\n",
       "        0.51505154, 0.6178709 , 0.20644704, 0.71498704, 0.6163168 ,\n",
       "        0.5923617 , 0.4144441 , 0.5462669 , 0.41633564, 0.35001022,\n",
       "        0.2399981 , 0.45213276, 0.7923906 , 0.4070392 , 0.21101928,\n",
       "        0.74086505, 0.2631367 , 0.8701794 , 0.58230865, 0.47582662,\n",
       "        0.72224355, 0.56142414, 0.7461005 , 0.2766942 , 0.74201405,\n",
       "        0.2947043 , 0.3591615 , 0.65793395, 0.8650652 , 0.3004459 ,\n",
       "        0.65933084, 0.46289665, 0.41198593, 0.40377778, 0.3761557 ,\n",
       "        0.6036315 , 0.7317103 ],\n",
       "       [0.7580807 , 0.20792899, 0.912858  , 0.5533931 , 0.18708536,\n",
       "        0.21305564, 0.3808176 , 0.52129453, 0.50592655, 0.3807599 ,\n",
       "        0.26444405, 0.42739508, 0.22003578, 0.79493207, 0.6576607 ,\n",
       "        0.47630525, 0.49348718, 0.11740395, 0.6103575 , 0.5072851 ,\n",
       "        0.6433791 , 0.28139612, 0.5641186 , 0.45867687, 0.29952693,\n",
       "        0.17230624, 0.4820794 , 0.6150148 , 0.3232478 , 0.2266549 ,\n",
       "        0.6517028 , 0.23177628, 0.7440102 , 0.5734174 , 0.505257  ,\n",
       "        0.5900315 , 0.40740037, 0.7096641 , 0.18029012, 0.7981049 ,\n",
       "        0.20824346, 0.22348917, 0.519512  , 0.93761116, 0.18610592,\n",
       "        0.6018261 , 0.4220189 , 0.25775683, 0.398285  , 0.23340872,\n",
       "        0.6201999 , 0.62640095]], dtype=float32)"
      ]
     },
     "execution_count": 11,
     "metadata": {},
     "output_type": "execute_result"
    }
   ],
   "source": [
    "similarities"
   ]
  },
  {
   "cell_type": "code",
   "execution_count": 12,
   "id": "50a05ec1",
   "metadata": {},
   "outputs": [
    {
     "name": "stdout",
     "output_type": "stream",
     "text": [
      "Most similar sentences to 'Aspiring human resources':\n",
      "   'Aspiring Human Resources Professional' with a similarity of 0.9206.\n",
      "   'Aspiring Human Resources Specialist' with a similarity of 0.8702.\n",
      "   'Seeking Human Resources Opportunities' with a similarity of 0.8651.\n",
      "   'Seeking Human Resources Position' with a similarity of 0.8341.\n",
      "   'Aspiring Human Resources Professional | An energetic and Team-Focused Leader' with a similarity of 0.7924.\n",
      "   'Aspiring Human Resources Manager, seeking internship in Human Resources.' with a similarity of 0.7472.\n",
      "   'Human Resources Professional' with a similarity of 0.7461.\n",
      "   'Seeking Human Resources HRIS and Generalist Positions' with a similarity of 0.7420.\n",
      "   'Aspiring Human Resources Manager | Graduating May 2020 | Seeking an Entry-Level Human Resources Position in St. Louis' with a similarity of 0.7409.\n",
      "   'Aspiring Human Resources Professional | Passionate about helping to create an inclusive and engaging work environment' with a similarity of 0.7317.\n",
      "---------\n",
      "Most similar sentences to 'seeking human resources':\n",
      "   'Seeking Human Resources Opportunities' with a similarity of 0.9376.\n",
      "   'Seeking Human Resources Position' with a similarity of 0.9129.\n",
      "   'Seeking Human Resources HRIS and Generalist Positions' with a similarity of 0.7981.\n",
      "   'Seeking Human  Resources Opportunities. Open to travel and relocation.' with a similarity of 0.7949.\n",
      "   'Aspiring Human Resources Professional' with a similarity of 0.7581.\n",
      "   'Aspiring Human Resources Specialist' with a similarity of 0.7440.\n",
      "   'Human Resources Professional' with a similarity of 0.7097.\n",
      "   'Aspiring Human Resources Manager, seeking internship in Human Resources.' with a similarity of 0.6577.\n",
      "   'Aspiring Human Resources Manager | Graduating May 2020 | Seeking an Entry-Level Human Resources Position in St. Louis' with a similarity of 0.6517.\n",
      "   'Human Resources Generalist at ScottMadden, Inc.' with a similarity of 0.6434.\n",
      "---------\n"
     ]
    }
   ],
   "source": [
    "top_10_similar_sentences = []\n",
    "\n",
    "for i, sentence in enumerate(keywords):\n",
    "    # Getting the indices of top 10 similar sentences\n",
    "    top_10_indices = similarities[i].argsort()[-10:][::-1] \n",
    "    \n",
    "    top_10_for_sentence = [(sentences[j], similarities[i][j]) for j in top_10_indices]\n",
    "    top_10_similar_sentences.append((sentence, top_10_for_sentence))\n",
    "\n",
    "# Printing the results\n",
    "for s1, top_10 in top_10_similar_sentences:\n",
    "    print(f\"Most similar sentences to '{s1}':\")\n",
    "    for s2, sim in top_10:\n",
    "        print(f\"   '{s2}' with a similarity of {sim:.4f}.\")\n",
    "    print(\"---------\")"
   ]
  },
  {
   "cell_type": "code",
   "execution_count": 13,
   "id": "7f370f71",
   "metadata": {},
   "outputs": [
    {
     "ename": "ModuleNotFoundError",
     "evalue": "No module named 'matplotlib'",
     "output_type": "error",
     "traceback": [
      "\u001B[0;31m---------------------------------------------------------------------------\u001B[0m",
      "\u001B[0;31mModuleNotFoundError\u001B[0m                       Traceback (most recent call last)",
      "Cell \u001B[0;32mIn[13], line 3\u001B[0m\n\u001B[1;32m      1\u001B[0m \u001B[38;5;28;01mimport\u001B[39;00m \u001B[38;5;21;01mnumpy\u001B[39;00m \u001B[38;5;28;01mas\u001B[39;00m \u001B[38;5;21;01mnp\u001B[39;00m\n\u001B[1;32m      2\u001B[0m \u001B[38;5;28;01mfrom\u001B[39;00m \u001B[38;5;21;01msklearn\u001B[39;00m\u001B[38;5;21;01m.\u001B[39;00m\u001B[38;5;21;01mmanifold\u001B[39;00m \u001B[38;5;28;01mimport\u001B[39;00m TSNE\n\u001B[0;32m----> 3\u001B[0m \u001B[38;5;28;01mimport\u001B[39;00m \u001B[38;5;21;01mmatplotlib\u001B[39;00m\u001B[38;5;21;01m.\u001B[39;00m\u001B[38;5;21;01mpyplot\u001B[39;00m \u001B[38;5;28;01mas\u001B[39;00m \u001B[38;5;21;01mplt\u001B[39;00m\n\u001B[1;32m      5\u001B[0m \u001B[38;5;28;01mdef\u001B[39;00m \u001B[38;5;21mplot_embeddings\u001B[39m(embeddings, labels):\n\u001B[1;32m      6\u001B[0m     tsne \u001B[38;5;241m=\u001B[39m TSNE(n_components\u001B[38;5;241m=\u001B[39m\u001B[38;5;241m2\u001B[39m, random_state\u001B[38;5;241m=\u001B[39m\u001B[38;5;241m0\u001B[39m)\n",
      "\u001B[0;31mModuleNotFoundError\u001B[0m: No module named 'matplotlib'"
     ]
    }
   ],
   "source": [
    "import numpy as np\n",
    "from sklearn.manifold import TSNE\n",
    "import matplotlib.pyplot as plt\n",
    "\n",
    "def plot_embeddings(embeddings, labels):\n",
    "    tsne = TSNE(n_components=2, random_state=0)\n",
    "    reduced_embeddings = tsne.fit_transform(embeddings)\n",
    "\n",
    "    plt.figure(figsize=(10, 10))\n",
    "    for i, label in enumerate(labels):\n",
    "        x, y = reduced_embeddings[i]\n",
    "        plt.scatter(x, y, marker='x', color='red')\n",
    "        plt.text(x+0.01, y, label, fontsize=9)\n",
    "    plt.show()\n",
    "\n",
    "plot_embeddings(embeddings, sentences)\n"
   ]
  },
  {
   "cell_type": "code",
   "execution_count": null,
   "id": "dde800ea-dce4-45ed-b632-fed641cc85fd",
   "metadata": {},
   "outputs": [],
   "source": []
  }
 ],
 "metadata": {
  "kernelspec": {
   "display_name": "Python 3 (ipykernel)",
   "language": "python",
   "name": "python3"
  },
  "language_info": {
   "codemirror_mode": {
    "name": "ipython",
    "version": 3
   },
   "file_extension": ".py",
   "mimetype": "text/x-python",
   "name": "python",
   "nbconvert_exporter": "python",
   "pygments_lexer": "ipython3",
   "version": "3.10.11"
  }
 },
 "nbformat": 4,
 "nbformat_minor": 5
}
